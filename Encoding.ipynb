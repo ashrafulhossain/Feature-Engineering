{
 "cells": [
  {
   "cell_type": "markdown",
   "id": "38372f08-d858-49cc-8c38-aa2bfe5dedb3",
   "metadata": {},
   "source": [
    "# Label Encoder"
   ]
  },
  {
   "cell_type": "code",
   "execution_count": 3,
   "id": "054bffbc-c912-422a-94ea-0e55d4d9b21b",
   "metadata": {},
   "outputs": [],
   "source": [
    "instance =['A', 'B', 'C', 'D', 'A', 'B', 'C', 'D', 'A', 'B']"
   ]
  },
  {
   "cell_type": "code",
   "execution_count": 5,
   "id": "d22824af-b15a-45a1-9865-1ca22a9d07e6",
   "metadata": {},
   "outputs": [],
   "source": [
    "from sklearn.preprocessing import LabelEncoder"
   ]
  },
  {
   "cell_type": "markdown",
   "id": "28e31704-ebfa-416f-8665-478cdac1bcb1",
   "metadata": {},
   "source": [
    "### encoding"
   ]
  },
  {
   "cell_type": "code",
   "execution_count": 9,
   "id": "c5e47cde-f401-46c6-a5c2-71bfe7a0eb24",
   "metadata": {},
   "outputs": [
    {
     "name": "stdout",
     "output_type": "stream",
     "text": [
      "Encoder Labels:  [0 1 2 3 0 1 2 3 0 1]\n"
     ]
    }
   ],
   "source": [
    "le = LabelEncoder()\n",
    "encoder_labels = le.fit_transform(instance)\n",
    "print('Encoder Labels: ',encoder_labels)"
   ]
  },
  {
   "cell_type": "markdown",
   "id": "1c2e7feb-3286-41d7-9aa6-710a74c8c9b9",
   "metadata": {},
   "source": [
    "### decoding"
   ]
  },
  {
   "cell_type": "code",
   "execution_count": 11,
   "id": "0f68c5b8-1b03-4f4d-9c53-c616a3965605",
   "metadata": {},
   "outputs": [
    {
     "name": "stdout",
     "output_type": "stream",
     "text": [
      "Decoder Labels:  ['A' 'B' 'C' 'D' 'A' 'B' 'C' 'D' 'A' 'B']\n"
     ]
    }
   ],
   "source": [
    "decoder_labels = le.inverse_transform(encoder_labels)\n",
    "print('Decoder Labels: ', decoder_labels)"
   ]
  },
  {
   "cell_type": "code",
   "execution_count": null,
   "id": "fa6b4ddd-6412-43eb-8dc6-47796239ca84",
   "metadata": {},
   "outputs": [],
   "source": []
  }
 ],
 "metadata": {
  "kernelspec": {
   "display_name": "Python 3 (ipykernel)",
   "language": "python",
   "name": "python3"
  },
  "language_info": {
   "codemirror_mode": {
    "name": "ipython",
    "version": 3
   },
   "file_extension": ".py",
   "mimetype": "text/x-python",
   "name": "python",
   "nbconvert_exporter": "python",
   "pygments_lexer": "ipython3",
   "version": "3.12.4"
  }
 },
 "nbformat": 4,
 "nbformat_minor": 5
}
